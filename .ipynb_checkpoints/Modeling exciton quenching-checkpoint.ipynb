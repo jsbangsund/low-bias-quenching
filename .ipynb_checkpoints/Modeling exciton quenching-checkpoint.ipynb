{
 "cells": [
  {
   "cell_type": "markdown",
   "metadata": {
    "toc": true
   },
   "source": [
    "<h1>Table of Contents<span class=\"tocSkip\"></span></h1>\n",
    "<div class=\"toc\"><ul class=\"toc-item\"><li><span><a href=\"#Theory\" data-toc-modified-id=\"Theory-1\"><span class=\"toc-item-num\">1&nbsp;&nbsp;</span>Theory</a></span></li><li><span><a href=\"#Imports\" data-toc-modified-id=\"Imports-2\"><span class=\"toc-item-num\">2&nbsp;&nbsp;</span>Imports</a></span></li><li><span><a href=\"#Helper-functions\" data-toc-modified-id=\"Helper-functions-3\"><span class=\"toc-item-num\">3&nbsp;&nbsp;</span>Helper functions</a></span><ul class=\"toc-item\"><li><span><a href=\"#Finite-diference-solver\" data-toc-modified-id=\"Finite-diference-solver-3.1\"><span class=\"toc-item-num\">3.1&nbsp;&nbsp;</span>Finite diference solver</a></span></li></ul></li><li><span><a href=\"#Optical-simulations\" data-toc-modified-id=\"Optical-simulations-4\"><span class=\"toc-item-num\">4&nbsp;&nbsp;</span>Optical simulations</a></span><ul class=\"toc-item\"><li><span><a href=\"#Optical-generation-profile\" data-toc-modified-id=\"Optical-generation-profile-4.1\"><span class=\"toc-item-num\">4.1&nbsp;&nbsp;</span>Optical generation profile</a></span></li><li><span><a href=\"#Outcoupling-of-CBP:Ir(ppy)3-device\" data-toc-modified-id=\"Outcoupling-of-CBP:Ir(ppy)3-device-4.2\"><span class=\"toc-item-num\">4.2&nbsp;&nbsp;</span>Outcoupling of CBP:Ir(ppy)3 device</a></span></li><li><span><a href=\"#TPBi:Ir(ppy)3-heated-devices\" data-toc-modified-id=\"TPBi:Ir(ppy)3-heated-devices-4.3\"><span class=\"toc-item-num\">4.3&nbsp;&nbsp;</span>TPBi:Ir(ppy)3 heated devices</a></span></li><li><span><a href=\"#$d_{ETL}$-dependent-Optical-generation-in-heated-devices\" data-toc-modified-id=\"$d_{ETL}$-dependent-Optical-generation-in-heated-devices-4.4\"><span class=\"toc-item-num\">4.4&nbsp;&nbsp;</span>$d_{ETL}$-dependent Optical generation in heated devices</a></span></li></ul></li><li><span><a href=\"#Feasible-parameter-regions\" data-toc-modified-id=\"Feasible-parameter-regions-5\"><span class=\"toc-item-num\">5&nbsp;&nbsp;</span>Feasible parameter regions</a></span></li><li><span><a href=\"#Temperature-data\" data-toc-modified-id=\"Temperature-data-6\"><span class=\"toc-item-num\">6&nbsp;&nbsp;</span>Temperature data</a></span></li></ul></div>"
   ]
  },
  {
   "cell_type": "markdown",
   "metadata": {},
   "source": [
    "This notebook contains the exciton quenching simulations supporting our [publication](http://advances.sciencemag.org/cgi/content/full/6/32/eabb2659) on spontaneous orientation polarization-induced quenching in organic light-emitting devices. If you find this code useful, please cite our publication:\n",
    "\n",
    ">J. S. Bangsund, J. R. Van Sambeek, N. M. Concannon, R. J. Holmes, Sub–turn-on exciton quenching due to molecular orientation and polarization in organic light-emitting devices. Sci. Adv. 6, eabb2659 (2020)."
   ]
  },
  {
   "cell_type": "markdown",
   "metadata": {},
   "source": [
    "# Theory\n",
    "\n",
    "We model the steady-state triplet exciton density, $n_T$, near device turn-on (~2.5 V), allowing for diffusion and triplet-polaron quenching with holes accumulated due to SOP. At this bias, the hole density should mostly reflect the SOP-induced population and the electrically generated exciton density is small enough to neglect exciton-exciton annihilation processes. The rate equation for $n_T$ in these conditions is:\n",
    "\n",
    "$$\\begin{equation} \n",
    "\\frac{dn_T}{dt} = G + D\\frac{\\partial^2n_T}{\\partial x^2} \n",
    "                  - n_T \\Big( \\frac{1}{\\tau} + k_{TP}n_h \\Big)\n",
    "\\end{equation}$$\n",
    "\n",
    "where x is the out-of-plane spatial coordinate, $D$ is the triplet exciton diffusivity, $\\tau$ is the cavity-modified exciton lifetime, $k_{TP}$ is the triplet-polaron quenching rate constant, $n_h$ is the SOP-induced hole density, and $G$ is the exciton generation rate. It is commonly assumed that SOP-induced holes are concentrated within a few nanometers of the polar layer. For simplicity, we assume $n_h$ decays exponentially with width $w$ from the EML/ETL interface in CBP:Ir(ppy)$_3$ devices (see Fig. 1A of our [publication](http://advances.sciencemag.org/cgi/content/full/6/32/eabb2659)). The magnitude of $n_h$ is set by the hole density measured using DCM assuming holes only accumulate within the emissive layer. $n_h$ is then calculated with coordinates in the appropriate reference frame (based on exponential decay from either the HTL/EML interface or the EML/ETL interface) as:\n",
    "\n",
    "$$\\begin{equation}\n",
    "n_h = \\sigma_h \\frac{e^{-x/w}}{\\int_{0}^{d_{EML}} e^{-x/w} dx}\n",
    "\\end{equation}$$\n",
    "\n",
    "where $\\sigma_h$ is the measured hole sheet density (from displacement current measurements) and $d_{EML}$ is the emissive layer (EML) thickness. When simulating PL, $G$ is calculated using the transfer matrix formalism. Under electrical excitation, we assume that $G$ (i.e. the recombination zone) has the same functional form as $n_h$, as the recombination probability will be highest where the hole density is large. The rate equation for $n_T$ is then solved numerically, applying reflecting boundary conditions ($dn_T/dt = 0$) at each interface of the emissive layer. The normalized PL can then be calculated by dividing the outcoupled photon flux when holes are present (at the turn-on voltage, $V = 2.5$), by the outcoupled photon flux when no holes are accumulated in the device (at $V = -3$):\n",
    "\n",
    "$$\\begin{equation} \n",
    "PL_{norm} = \\frac{PL(V=2.5)}{PL(V=-3)} \n",
    "          = \\frac{\\int \\eta_{OC} k_r n_T(n_h) dx}{\\int \\eta_{OC} k_r n_T(n_h=0) dx}\n",
    "\\end{equation}$$\n",
    "\n",
    "where $k_r$ is the cavity-modified radiative decay rate and $\\eta_{OC}$ is the outcoupling efficiency, both integrated over the PL spectrum of Ir(ppy)$_3$ and calculated using a classical dipole emission model assuming isotropic dipole orientation. In calculating EQE, we assume that both charge balance and the spin fraction are unity, which is supported by the results in Fig. 1D of our [publication](http://advances.sciencemag.org/cgi/content/full/6/32/eabb2659). In other words, every injected charge forms an exciton which can decay radiatively. EQE is then simply equal to the outcoupled photon flux divided by the exciton generation rate. This is equivalent to the outcoupled radiative decay rate divided by the total decay rate:\n",
    "\n",
    "$$\\begin{equation} \n",
    "\\begin{split}\n",
    "EQE & = \\frac{\\int \\eta_{OC} k_r n_T dx}{\\int \\Big(G + D\\frac{\\partial^2n_T}{\\partial x^2}\\Big) dx}   = \\frac{\\int \\eta_{OC} k_r \\tau^* \\Big(G + D\\frac{\\partial^2n_T}{\\partial x^2}\\Big) dx}{\\int \\Big(G + D\\frac{\\partial^2n_T}{\\partial x^2}\\Big) dx}\n",
    "      = \\frac{\\int \\eta_{OC} \\eta_{PL}^* \\Big(G + D\\frac{\\partial^2n_T}{\\partial x^2}\\Big) dx}{\\int \\Big(G + D\\frac{\\partial^2n_T}{\\partial x^2}\\Big) }\n",
    "\\\\\n",
    "    & = \\frac{\\int \\eta_{OC} k_r n_T dx}{\\int [k_r + k_{nr}+k_{TP}n_h] n_T  dx}\n",
    "\\end{split}\n",
    "\\end{equation}$$\n",
    "\n",
    "where $\\tau^*$ is the modified exciton lifetime, taking into account the Purcell factor and EPQ, and $\\eta_{PL}^* = k_r \\tau^*$ is the modified photoluminescence efficiency.\n",
    "\n",
    "(These equations should make it clear that PL and EQE will measure a similar, but not exactly identical, magnitude of quenching, unless the hole distribution was perfectly flat. For these measurements to be exactly comparable, PL measurements would need to be *absolute*, so that we knew the exact PL efficiency at a given bias without normalization.)"
   ]
  },
  {
   "cell_type": "markdown",
   "metadata": {},
   "source": [
    "# Imports"
   ]
  },
  {
   "cell_type": "code",
   "execution_count": 1,
   "metadata": {},
   "outputs": [
    {
     "name": "stderr",
     "output_type": "stream",
     "text": [
      "C:\\Users\\jsudb\\Miniconda3\\envs\\oled\\lib\\site-packages\\fuzzywuzzy\\fuzz.py:11: UserWarning: Using slow pure-python SequenceMatcher. Install python-Levenshtein to remove this warning\n",
      "  warnings.warn('Using slow pure-python SequenceMatcher. Install python-Levenshtein to remove this warning')\n"
     ]
    }
   ],
   "source": [
    "import os\n",
    "import glob\n",
    "import pickle\n",
    "import datetime\n",
    "import numpy as np\n",
    "import pandas as pd\n",
    "import matplotlib.pyplot as plt\n",
    "from matplotlib import colors, ticker, cm\n",
    "import matplotlib\n",
    "matplotlib.rc(\"savefig\",dpi=300) \n",
    "%matplotlib inline\n",
    "try:\n",
    "    from oledpy import mpl_helper\n",
    "    mpl_helper.set_style('origin.mplstyle')\n",
    "    from oledpy import tmm\n",
    "except:\n",
    "    print('oledpy not installed. optical simulations cannot be performed.')"
   ]
  },
  {
   "cell_type": "markdown",
   "metadata": {},
   "source": [
    "# Helper functions"
   ]
  },
  {
   "cell_type": "markdown",
   "metadata": {},
   "source": [
    "## Finite diference solver"
   ]
  },
  {
   "cell_type": "code",
   "execution_count": 2,
   "metadata": {
    "code_folding": [
     0
    ]
   },
   "outputs": [],
   "source": [
    "def CenterFDsolver(D,tau_eff,G,d,BCs=('hn','hn')):\n",
    "    '''\n",
    "     Solves for exciton density in a layer using a diffusion, generation,\n",
    "     recombination governing equation and prescribed boundary conditions\n",
    "    \n",
    "     D - exciton diffusivity nm^2/s\n",
    "     tau_eff - effective exciton lifetime, including potential non-radiative decay (s)\n",
    "     d - layer thickness (nm)\n",
    "     G - exciton generation rate in #/(cm^3-s)\n",
    "     BCs - pairs of conditions for left and right boundary in ordered pair\n",
    "     [BCleft, BCright] (can currently handle homog. dirchlet and neumann BCs)\n",
    "    \n",
    "     BC CODES:\n",
    "     'hd'-homogeneous dirchlet (C=0)\n",
    "     'hn'-homogeneous neumann(dC/dx=0)\n",
    "    '''\n",
    "    #all arbitrary variables below\n",
    "    if type(tau_eff) is list:\n",
    "        tau_eff = np.array(tau_eff) # convert to numpy array\n",
    "    if type(tau_eff) is np.ndarray:\n",
    "        assert len(tau_eff)==len(G), \"mismatched lengths\"\n",
    "    else:\n",
    "        # If tau_eff is constant, convert to array with same shape as G\n",
    "        tau_eff = tau_eff * np.ones(G.shape)\n",
    "    if type(G) is list:\n",
    "        G = np.array(G)\n",
    "    # if D=0 is passed, changed to small number for calculation purposes\n",
    "    if D==0:\n",
    "        D=1e-3\n",
    "    Ld_eff = np.sqrt(D*tau_eff)\n",
    "    beta = 1/Ld_eff\n",
    "    #d *= 1e-7 # Convert from nm to cm\n",
    "    G=G*1e-21 #Convert from #/cm3-s to #/nm3-s\n",
    "    BCleft,BCright = BCs\n",
    "\n",
    "    n=len(G)\n",
    "    dx=d/(n-1)\n",
    "\n",
    "    A=np.zeros((n,n))\n",
    "    b=np.zeros((n,1))\n",
    "\n",
    "    # Set left BC\n",
    "    if BCleft=='hd':\n",
    "        A[0,0] = 1\n",
    "        b[0] = 0\n",
    "    elif BCleft=='hn':\n",
    "        # This is derived using a \"ghost point\" or mirror condition\n",
    "        # See e.g. https://docs.scipy.org/doc/scipy/reference/tutorial/integrate.html#solving-a-system-with-a-banded-jacobian-matrix\n",
    "        # or e.g. https://www.quora.com/How-do-you-implement-a-Neumann-boundary-condition-in-the-finite-difference-method\n",
    "        # In this condition, N_i+1 = N_i-1\n",
    "        # arises from Neumann B.C.: dn/dx = 0\n",
    "        # and dn/dx = (N_i+1 - N_i-1)/2dx \n",
    "        # centered finite difference discretization\n",
    "        A[0,0] = -2/dx**2-beta[0]**2\n",
    "        A[0,1] = 2/dx**2\n",
    "        b[0] = -G[0]/D\n",
    "    else:\n",
    "        print('Error with left boundary condition')\n",
    "    # Deal with interior nodes\n",
    "    for i in range(1,n-1):\n",
    "        A[i,i-1]=1/dx**2\n",
    "        A[i,i]=-2/dx**2-beta[i]**2\n",
    "        A[i,i+1]=1/dx**2\n",
    "        b[i]=-G[i]/D\n",
    "    # Set right BC\n",
    "    if BCright=='hd':\n",
    "        A[n-1,n-1]=1\n",
    "        b[n-1]=0\n",
    "    elif BCright=='hn':\n",
    "        A[n-1,n-1]=-2/dx**2-beta[n-1]**2\n",
    "        A[n-1,n-2]=2/dx**2\n",
    "        b[n-1]=-G[n-1]/D\n",
    "    else:\n",
    "        print('Error with right boundary condition')\n",
    "    # Same as A\\b in MATLAB:\n",
    "    n_ex=np.linalg.solve(A,b) # calculates exciton density profile (#/nm3)\n",
    "    return n_ex.reshape((len(n_ex),))*1e21 #converts to (#/cm3)"
   ]
  },
  {
   "cell_type": "code",
   "execution_count": 3,
   "metadata": {
    "code_folding": [
     0
    ]
   },
   "outputs": [],
   "source": [
    "def num2latex(n,digits=2):\n",
    "    pre,exp = ('{:.'+str(digits)+'e}').format(n).split('e')\n",
    "    # Get rid of hanging 0s and + signs added by python\n",
    "    exp = exp.replace('+0','').replace('+','').replace('-0','-')\n",
    "    # Don't return 10^exp if number between 0.1 and 999\n",
    "    if float(exp)>=-1 and float(exp)<=2:\n",
    "        return ('{:.'+str(digits)+'f}').format(n)\n",
    "    # Don't return prefactor if equal to 1\n",
    "    elif float(pre)==1:\n",
    "        return r'$10^{'+exp+'}$'\n",
    "    else:\n",
    "        return '$'+pre+r' \\cdot 10^{'+exp+'}$'"
   ]
  },
  {
   "cell_type": "code",
   "execution_count": 4,
   "metadata": {
    "code_folding": [
     0,
     14,
     45,
     65
    ]
   },
   "outputs": [],
   "source": [
    "def calc_npol_exp(x,dEML,sigma_P,L):\n",
    "    '''\n",
    "    Calculates polaron density from a given sheet\n",
    "    charge density (sigma_P), exponential distribution\n",
    "    length (L) and emissive layer width (dEML)\n",
    "    \n",
    "    Inputs:\n",
    "    x - vector of positions in EML, nm units\n",
    "    dEML - width of EML\n",
    "    sigma_P - areal charge density, from DCM, #/cm^2\n",
    "    L - exponential decay length of charge profile, nm\n",
    "    '''\n",
    "    profile = np.exp(-(dEML-x)/L)\n",
    "    return sigma_P * profile / np.trapz(profile,x*1e-7)\n",
    "def calc_npol_exp_HTL(x,dEML,sigma_P,L):\n",
    "    '''\n",
    "    Exponential decay from HTL/EML interface\n",
    "    x - vector of positions in EML, nm units\n",
    "    dEML - width of EML\n",
    "    sigma_P - areal charge density, from DCM, #/cm^2\n",
    "    L - exponential decay length of charge profile, nm\n",
    "    '''\n",
    "    profile = np.exp(-x/L)\n",
    "    return sigma_P * profile / np.trapz(profile,x*1e-7)\n",
    "def calc_normPL(dEML,n_pol,tau,G,D,k_TP,eta_out,kr):\n",
    "    '''\n",
    "    Simulates PL quenching ratio for a given polarization induced\n",
    "    polaron density\n",
    "    \n",
    "    Inputs:\n",
    "    x - vector of positions in EML, nm units\n",
    "    dEML - width of EML\n",
    "    n_pol - polaron density (varies spatially) #/cm^3\n",
    "    tau - spatially varying exciton lifetime (Purcell effect)\n",
    "    G - spatially varying optical generation (transfer matrix)\n",
    "    k_TP - constant triplet-polaron quenching rate constant cm^3/s\n",
    "    eta_out - spatially varying outcoupling\n",
    "    kr - spatially varying radiative rate (Purcell effect)\n",
    "    '''\n",
    "    tau_eff = 1 / (1/tau + k_TP * n_pol)\n",
    "    n_ex  = CenterFDsolver(D,tau_eff,G,dEML,BCs=('hn','hn'))\n",
    "    n_ex_unquenched = CenterFDsolver(D,tau,G,dEML,BCs=('hn','hn'))\n",
    "    unquenched = eta_out * kr * n_ex_unquenched\n",
    "    quenched = eta_out * kr * n_ex\n",
    "    return np.trapz(quenched)/np.trapz(unquenched)\n",
    "def calc_IQE(dEML,n_pol,tau,G,D,k_TP,kr):\n",
    "    '''\n",
    "    Simulates device IQE for a given polarization induced\n",
    "    polaron density (assuming unity charge balance or exciton \n",
    "    formation efficiency, and unity spin fraction)\n",
    "    \n",
    "    Inputs:\n",
    "    x - vector of positions in EML, nm units\n",
    "    dEML - width of EML\n",
    "    n_pol - polaron density (varies spatially) #/cm^3\n",
    "    tau - spatially varying exciton lifetime (Purcell effect)\n",
    "    G - spatially varying optical generation (transfer matrix)\n",
    "    k_TP - constant triplet-polaron quenching rate constant cm^3/s\n",
    "    kr - spatially varying radiative rate (Purcell effect)\n",
    "    '''\n",
    "    tau_eff = 1 / (1/tau + k_TP * n_pol)\n",
    "    n_ex  = CenterFDsolver(D,tau_eff,G,dEML,BCs=('hn','hn'))\n",
    "    quenched = kr * n_ex\n",
    "    total_consumption = (1/tau_eff) * n_ex\n",
    "    return np.trapz(quenched)/np.trapz(total_consumption)\n",
    "def calc_EQE(dEML,n_pol,tau,G,D,k_TP,eta_out,kr):\n",
    "    '''\n",
    "    Simulates device EQE for a given polarization induced\n",
    "    polaron density (assuming unity charge balance or exciton \n",
    "    formation efficiency, and unity spin fraction)\n",
    "    \n",
    "    Inputs:\n",
    "    x - vector of positions in EML, nm units\n",
    "    dEML - width of EML\n",
    "    n_pol - polaron density (varies spatially) #/cm^3\n",
    "    tau - spatially varying exciton lifetime (Purcell effect)\n",
    "    G - spatially varying optical generation (transfer matrix)\n",
    "    k_TP - constant triplet-polaron quenching rate constant cm^3/s\n",
    "    eta_out - spatially varying outcoupling\n",
    "    kr - spatially varying radiative rate (Purcell effect)\n",
    "    '''\n",
    "    tau_eff = 1 / (1/tau + k_TP * n_pol)\n",
    "    n_ex  = CenterFDsolver(D,tau_eff,G,dEML,BCs=('hn','hn'))\n",
    "    quenched = eta_out * kr * n_ex\n",
    "    total_consumption = (1/tau_eff) * n_ex\n",
    "    return np.trapz(quenched)/np.trapz(total_consumption)"
   ]
  },
  {
   "cell_type": "code",
   "execution_count": 5,
   "metadata": {},
   "outputs": [],
   "source": [
    "plot_dir = 'Plots'\n",
    "if not os.path.isdir(plot_dir):\n",
    "    os.path.mkdir(plot_dir)\n",
    "# Plot parameters\n",
    "fs_label = 14\n",
    "fs_tick = 12\n",
    "lw = 2.5\n",
    "ms = 7\n",
    "styles=[(0, ()),(0, (5, 1)), (0, (4, 1, 1, 1)), \n",
    "       (0, (3, 1, 1, 1, 1, 1)),(0, (1, 1))]\n",
    "# Matplotlib text preferences\n",
    "from matplotlib import rc\n",
    "rc('font',**{'family':'sans-serif','sans-serif':['Arial']})\n",
    "rc('text', usetex=False)\n",
    "plt.rcParams.update({'mathtext.default':  'regular' })\n",
    "# params = {'legend.fontsize': 'medium',\n",
    "#           'figure.figsize': (4,3),\n",
    "#           'axes.labelsize': 'medium',\n",
    "#           'axes.titlesize':'large',\n",
    "#           'xtick.labelsize':'medium',\n",
    "#           'ytick.labelsize':'medium'}\n",
    "# plt.rcParams.update(params)\n",
    "def format_axis(ax,limits=None,xlabel=None,ylabel=None,fs_tick=None,fs_label=14,\n",
    "               tick_axes='both'):\n",
    "    if not limits is None:\n",
    "        ax.axis(limits)\n",
    "    if not xlabel is None:\n",
    "        ax.set_xlabel(xlabel,fontsize=fs_label)\n",
    "    else:\n",
    "        ax.xaxis.label.set_size(fs_label)\n",
    "    if not ylabel is None:\n",
    "        ax.set_ylabel(ylabel,fontsize=fs_label)\n",
    "    else:\n",
    "        ax.yaxis.label.set_size(fs_label)\n",
    "    if not fs_tick is None:\n",
    "        ax.tick_params(axis=tick_axes, which='major', labelsize=fs_tick)"
   ]
  },
  {
   "cell_type": "code",
   "execution_count": 6,
   "metadata": {},
   "outputs": [],
   "source": [
    "# Load dataframe of optical constants\n",
    "# each column should have key = 'MaterialName_n' or 'MaterialName_k'\n",
    "# Wavelength column should have key = 'Wavelength (nm)'\n",
    "df_nk=pd.read_csv('Reference Data/nk_library.csv')\n",
    "lower_names = [x.lower() for x in df_nk.columns]\n",
    "lower_names[0]='Wavelength (nm)'\n",
    "df_nk.columns = lower_names"
   ]
  },
  {
   "cell_type": "markdown",
   "metadata": {},
   "source": [
    "# Optical simulations\n",
    "\n",
    "Simulations require oledpy (https://github.com/jsbangsund/oledpy). Simulations results can be bypassed by loading data from `optical-simulation-data.csv`."
   ]
  },
  {
   "cell_type": "code",
   "execution_count": 7,
   "metadata": {},
   "outputs": [],
   "source": [
    "# Load data\n",
    "dipole_positions,G_ex_CBP_TPBi,kr_of_x,tau_of_x,eta_out_of_x,\\\n",
    "G_ex_TPBi_heated,kr_of_x_heated,tau_of_x_heated,\\\n",
    "eta_out_of_x_heated = np.genfromtxt(\n",
    "    'Reference Data/optical-simulation-data.csv',\n",
    "    skip_header=1,delimiter=',',unpack=True)\n",
    "\n",
    "G_ex_list_heated = np.genfromtxt('Reference Data/dETL-variation-heated-devices.csv',\n",
    "                    delimiter=',',skip_header=1)\n",
    "G_ex_list_heated=G_ex_list_heated.T"
   ]
  },
  {
   "cell_type": "markdown",
   "metadata": {},
   "source": [
    "The below cells do not need to be run unless you modified the layer structure and want to re-calculate the optical parameters."
   ]
  },
  {
   "cell_type": "code",
   "execution_count": 36,
   "metadata": {},
   "outputs": [],
   "source": [
    "# Optical simulation settings\n",
    "pump_wavelength = 405 # nm, wavelength of excitation laser\n",
    "theta0 = 45 # degrees, incident angle of pump light source\n",
    "degree=np.pi/180 # conversion for degrees to radian\n",
    "powerDensity = 5 #mW/cm2, power density of pump light source\n",
    "# Positions within emissive layer to calculate over\n",
    "dipole_positions = np.arange(0,1.01,0.01)\n",
    "# Define layer structure, starting at substrate and working up\n",
    "    # Simulations assume excitation and emission occurs through substrate\n",
    "    # (i.e. bottom-emitting structure)\n",
    "    # 'doping' is for calculating ideal mixture optical constants for multiple\n",
    "    # component films. Provide a list of fractions adding up to 1\n",
    "# This structure is from Fig. 1B of the paper:\n",
    "layers_CBP_TPBi = [\n",
    "     {'name':'SiO2'     ,'d':0  ,'doping':1,'coherent':0},\n",
    "     {'name':'ITO'      ,'d':100,'doping':1,'coherent':1},\n",
    "     {'name':'PEDOT'    ,'d':70 ,'doping':1,'coherent':1},\n",
    "     {'name':'TCTA'     ,'d':20 ,'doping':1,'coherent':1},\n",
    "     {'name':'CBP-Irppy','d':10 ,'doping':[0.93,0.07],'coherent':1,'active':1},\n",
    "     {'name':'TPBi'     ,'d':50 ,'doping':1,'coherent':1},\n",
    "     {'name':'Al'       ,'d':100,'doping':1,'coherent':1},\n",
    "     {'name':'Air'      ,'d':0  ,'doping':1,'coherent':0},\n",
    "]\n",
    "# This structure is from Fig. 3A of the paper:\n",
    "layers_TPBi_heated = [\n",
    "     {'name':'SiO2'     ,'d':0  ,'doping':1,'coherent':0},\n",
    "     {'name':'ITO'      ,'d':100,'doping':1,'coherent':1},\n",
    "     {'name':'PEDOT'    ,'d':70 ,'doping':1,'coherent':1},\n",
    "     {'name':'TCTA'     ,'d':20 ,'doping':1,'coherent':1},\n",
    "     {'name':'TPBi-Irppy','d':10 ,'doping':[0.92,0.08],'coherent':1,'active':1},\n",
    "     {'name':'TPBi'     ,'d':60 ,'doping':1,'coherent':1},\n",
    "     {'name':'Al'       ,'d':100,'doping':1,'coherent':1},\n",
    "     {'name':'Air'      ,'d':0  ,'doping':1,'coherent':0},\n",
    "]\n",
    "# Get active layer\n",
    "for i,layer in enumerate(layers_CBP_TPBi):\n",
    "    if ('active' in layer.keys()) and (layer['active']==1 or layer['active']==True):\n",
    "        active_layer_CBP = layer['name']\n",
    "for i,layer in enumerate(layers_TPBi_heated):\n",
    "    if ('active' in layer.keys()) and (layer['active']==1 or layer['active']==True):\n",
    "        active_layer_heated = layer['name']"
   ]
  },
  {
   "cell_type": "markdown",
   "metadata": {},
   "source": [
    "## Optical generation profile"
   ]
  },
  {
   "cell_type": "code",
   "execution_count": 9,
   "metadata": {},
   "outputs": [
    {
     "data": {
      "image/png": "[encoded data removed]",
      "text/plain": [
       "<Figure size 288x216 with 1 Axes>"
      ]
     },
     "metadata": {
      "needs_background": "light"
     },
     "output_type": "display_data"
    }
   ],
   "source": [
    "dETL = 50 # nm\n",
    "# get list of layer names and thicknesses\n",
    "layer_names = ['Air']+[x['name'] for x in layers_CBP_TPBi]\n",
    "doping = [1]+[x['doping'] for x in layers_CBP_TPBi]\n",
    "d_list = [0]+[x['d'] for x in layers_CBP_TPBi]\n",
    "active_layer_i = layer_names.index(active_layer_CBP)\n",
    "# Set thickness of ETL (which is TPBi in this case)\n",
    "d_list[layer_names.index('TPBi')] = dETL\n",
    "\n",
    "# Calculate generation profile\n",
    "n_list = tmm.load_nk(layer_names,doping,pump_wavelength,df_nk)\n",
    "coh_tmm_data = tmm.coherent_tmm('s',n_list, d_list, theta0*degree, pump_wavelength)\n",
    "position = dipole_positions * d_list[active_layer_i]\n",
    "position_full = tmm.position_resolved(active_layer_i,position,coh_tmm_data,\n",
    "                                      powerDensity=powerDensity)\n",
    "G_ex_CBP_TPBi = position_full['G']\n",
    "\n",
    "# Plot E-field profile\n",
    "fig,ax=plt.subplots(figsize=(4,3))\n",
    "plt.plot(position,G_ex_CBP_TPBi/np.amax(G_ex_CBP_TPBi),\n",
    "         label='$\\lambda=$ ' +str(pump_wavelength) + 'nm, ' \n",
    "               + 'd$_{ETL}$ = ' + str(dETL) + ' nm')\n",
    "plt.axis([0,d_list[active_layer_i],0,1.05])\n",
    "legend = plt.legend(loc=0)\n",
    "plt.xlabel('Distance from HTL (nm)')\n",
    "plt.ylabel('Norm. generation rate')\n",
    "plt.show()"
   ]
  },
  {
   "cell_type": "code",
   "execution_count": 10,
   "metadata": {},
   "outputs": [
    {
     "data": {
      "image/png": "[encoded data removed]",
      "text/plain": [
       "<Figure size 216x216 with 1 Axes>"
      ]
     },
     "metadata": {
      "needs_background": "light"
     },
     "output_type": "display_data"
    }
   ],
   "source": [
    "# Plot generation for different ETL thicknesses\n",
    "dETLs = [33,50,68] # nm\n",
    "fig,ax=plt.subplots(figsize=(3,3))\n",
    "for i,dETL in enumerate(dETLs):\n",
    "    d_list[-3] = dETL\n",
    "    n_list = tmm.load_nk(layer_names,doping,pump_wavelength,df_nk)\n",
    "    coh_tmm_data = tmm.coherent_tmm('s',n_list, d_list, \n",
    "                                    theta0*degree, pump_wavelength)\n",
    "    position = dipole_positions * d_list[active_layer_i]\n",
    "    position_full = tmm.position_resolved(active_layer_i,position,\n",
    "                                          coh_tmm_data,\n",
    "                                          powerDensity=powerDensity)\n",
    "    G_ex = position_full['G']\n",
    "    plt.plot(position,G_ex/np.amax(G_ex),\n",
    "             label='d$_{ETL}$ = ' + str(dETL) + ' nm',\n",
    "             linestyle=styles[i])\n",
    "\n",
    "plt.axis([0,d_list[active_layer_i],0,1.05])\n",
    "legend = plt.legend(loc=0,frameon=False)\n",
    "format_axis(ax,xlabel='Distance from HTL (nm)',\n",
    "           ylabel='Norm. $|E|^2$',fs_tick=fs_tick,fs_label=fs_label)\n",
    "#plt.savefig(os.path.join('Plots','E-field-vs-dETL_CBP-Irppy.svg'), dpi=200, bbox_inches='tight',transparent=True)"
   ]
  },
  {
   "cell_type": "code",
   "execution_count": 27,
   "metadata": {},
   "outputs": [
    {
     "data": {
      "image/png": "[encoded data removed]",
      "text/plain": [
       "<Figure size 288x216 with 1 Axes>"
      ]
     },
     "metadata": {
      "needs_background": "light"
     },
     "output_type": "display_data"
    }
   ],
   "source": [
    "# Optical generation for the heated TPBi:Ir(ppy)3 devices\n",
    "dETL = 60 # nm\n",
    "# get list of layer names and thicknesses\n",
    "layer_names = ['Air']+[x['name'] for x in layers_TPBi_heated]\n",
    "doping = [1]+[x['doping'] for x in layers_TPBi_heated]\n",
    "d_list = [0]+[x['d'] for x in layers_TPBi_heated]\n",
    "active_layer_i = layer_names.index(active_layer_heated)\n",
    "# Set thickness of ETL (which is TPBi in this case)\n",
    "d_list[layer_names.index('TPBi')] = dETL\n",
    "\n",
    "# Calculate generation profile\n",
    "n_list = tmm.load_nk(layer_names,doping,pump_wavelength,df_nk)\n",
    "coh_tmm_data = tmm.coherent_tmm('s',n_list, d_list, theta0*degree, pump_wavelength)\n",
    "position = dipole_positions * d_list[active_layer_i]\n",
    "position_full = tmm.position_resolved(active_layer_i,position,coh_tmm_data,\n",
    "                                      powerDensity=powerDensity)\n",
    "G_ex_TPBi_heated = position_full['G']\n",
    "\n",
    "# Plot E-field profile\n",
    "fig,ax=plt.subplots(figsize=(4,3))\n",
    "plt.plot(position,G_ex_TPBi_heated/np.amax(G_ex_TPBi_heated),\n",
    "         label='$\\lambda=$ ' +str(pump_wavelength) + 'nm, ' \n",
    "               + 'd$_{ETL}$ = ' + str(dETL) + ' nm')\n",
    "plt.axis([0,d_list[active_layer_i],0,1.05])\n",
    "legend = plt.legend(loc=0)\n",
    "plt.xlabel('Distance from HTL (nm)')\n",
    "plt.ylabel('Norm. generation rate')\n",
    "plt.show()"
   ]
  },
  {
   "cell_type": "markdown",
   "metadata": {},
   "source": [
    "## Outcoupling of CBP:Ir(ppy)3 device\n",
    "Calculate $\\eta_{OC}(x)$, $\\tau(x)$, and $k_r(x)$."
   ]
  },
  {
   "cell_type": "code",
   "execution_count": 11,
   "metadata": {},
   "outputs": [],
   "source": [
    "import warnings\n",
    "warnings.filterwarnings(\"ignore\")\n",
    "from oledpy.dipole_emission import ThinFilmArchitecture"
   ]
  },
  {
   "cell_type": "code",
   "execution_count": 13,
   "metadata": {},
   "outputs": [
    {
     "name": "stdout",
     "output_type": "stream",
     "text": [
      "Active layer is: CBP-Irppy. \n",
      " To change, call arch.set_active_layer(active_layer) Indexing starts at 0.\n",
      "RZ not provided. Flat RZ will be assumed\n"
     ]
    }
   ],
   "source": [
    "# Define wavelengths of interest\n",
    "wavelengths = np.arange(450,650,5)\n",
    "PL = np.genfromtxt('Reference Data/Irppy3.pl',skip_header=5,delimiter='\\t')\n",
    "PL_interp = np.interp(wavelengths,PL[:,0],PL[:,1])/wavelengths\n",
    "arch_CBP_TPBi = ThinFilmArchitecture(\n",
    "    layer_dict_list = layers_CBP_TPBi,\n",
    "    dipole_positions = dipole_positions,\n",
    "    vac_wavelengths=wavelengths,pl_spectrum=PL_interp,\n",
    "    tau=1.1e-6,PLQY=0.95)\n",
    "# Parameters for the emitter outside of a device cavity:\n",
    "# tau is the intrinsic exciton lifetime of dilute Ir(ppy)3\n",
    "# PLQY is the photoluminescence quantum yield of dilute Ir(ppy)3\n",
    "arch_CBP_TPBi.load_nk(df_nk=df_nk)\n",
    "arch_CBP_TPBi.run_attribute_checks()"
   ]
  },
  {
   "cell_type": "markdown",
   "metadata": {},
   "source": [
    "If you want to evaluate multiple ETL thickness, see the functions `loop_over_single_layer_prop` and `summarize_loop_data` in oledpy.dipole_emission. Otherwise, as shown below, just use `summarize_device` to calculate all the spatial parameters."
   ]
  },
  {
   "cell_type": "code",
   "execution_count": 14,
   "metadata": {},
   "outputs": [
    {
     "name": "stdout",
     "output_type": "stream",
     "text": [
      "Provided imaginary active layer index. Discarding imaginary part.\n",
      "Varied layer is: TPBi\n"
     ]
    },
    {
     "data": {
      "application/vnd.jupyter.widget-view+json": {
       "model_id": "3ca36483c909460bae77b409e8c64828",
       "version_major": 2,
       "version_minor": 0
      },
      "text/plain": [
       "HBox(children=(IntProgress(value=0, max=1), HTML(value='')))"
      ]
     },
     "metadata": {},
     "output_type": "display_data"
    },
    {
     "data": {
      "application/vnd.jupyter.widget-view+json": {
       "model_id": "",
       "version_major": 2,
       "version_minor": 0
      },
      "text/plain": [
       "HBox(children=(IntProgress(value=0, max=40), HTML(value='')))"
      ]
     },
     "metadata": {},
     "output_type": "display_data"
    },
    {
     "name": "stdout",
     "output_type": "stream",
     "text": [
      "\n"
     ]
    }
   ],
   "source": [
    "arch_CBP_TPBi.show_wavelength_progress_bar=True\n",
    "custom_u = np.hstack((np.arange(0,0.75,0.005),\n",
    "                      np.arange(0.75,1,0.001),\n",
    "                      np.arange(1+0.001,2,0.002),\n",
    "                      np.arange(2,10,0.1)))#,np.arange(30,100,1)\n",
    "arch_CBP_TPBi.init_pds_variables(custom_u=custom_u)\n",
    "# un-comment to make sure ETL thickness is set properly:\n",
    "# layer_idx=arch_CBP_TPBi.layer_names.index('TPBi')\n",
    "# arch_CBP_TPBi.d[layer_idx] = 50 \n",
    "arch_CBP_TPBi.summarize_device()\n",
    "eta_out_of_x = arch_CBP_TPBi.wavelength_averaged_eta_out\n",
    "kr_of_x = arch_CBP_TPBi.kr_effective_spatial\n",
    "tau_of_x = arch_CBP_TPBi.tau_effective_spatial"
   ]
  },
  {
   "cell_type": "code",
   "execution_count": 54,
   "metadata": {},
   "outputs": [
    {
     "data": {
      "image/png": "[encoded data removed]",
      "text/plain": [
       "<Figure size 216x216 with 2 Axes>"
      ]
     },
     "metadata": {
      "needs_background": "light"
     },
     "output_type": "display_data"
    }
   ],
   "source": [
    "# Plot all spatial parameters\n",
    "fig,ax=plt.subplots(figsize=(3,3))#,ncols=4)\n",
    "ax_right = ax.twinx()\n",
    "plot_fname = 'spatial-optical-parameters-CBP-Irppy3-dETL=50nm.svg'\n",
    "dEML = arch.d[arch.active_layer]\n",
    "ax.plot(dipole_positions*dEML,kr_of_x/1e6,\n",
    "        linestyle=styles[0],label='$\\mathit{k_r}$')\n",
    "ax.plot(dipole_positions*dEML,tau_of_x/1e-6,\n",
    "        linestyle=styles[1],label=r'$\\tau$')\n",
    "ax_right.plot(dipole_positions*dEML,eta_out_of_x,\n",
    "             linestyle=styles[2],label='$\\eta_{OC}$')\n",
    "ax.plot(dipole_positions*dEML,\n",
    "           G_ex_CBP_TPBi/np.amax(G_ex_CBP_TPBi),linestyle=styles[3],\n",
    "           label='$\\mathit{G}$')\n",
    "ax.legend(frameon=False)\n",
    "plt.legend(loc='lower left',bbox_to_anchor=(0.55,0.625),frameon=False)\n",
    "ax.set_ylabel(r'$k_r$ ($10^6$ s$^{-1}$), $\\tau$ ($\\mu$s), $\\mathit{G}$ (norm.)')\n",
    "ax.set_xlabel('Distance from HTL (nm)',fontsize=fs_label)\n",
    "ax_right.set_ylabel('$\\eta_{OC}$')\n",
    "ax_right.set_yticks([0.23,0.24,0.25])\n",
    "ax.set_yticks(np.arange(0.9,1.11,0.1))\n",
    "\n",
    "# ax[3].set_ylabel('$G_{ex}$')\n",
    "for subax in [ax,ax_right]:\n",
    "    format_axis(subax)\n",
    "    \n",
    "#plt.savefig(os.path.join(plot_dir,plot_fname),bbox_inches='tight',transparent=True)"
   ]
  },
  {
   "cell_type": "markdown",
   "metadata": {},
   "source": [
    "## TPBi:Ir(ppy)3 heated devices"
   ]
  },
  {
   "cell_type": "code",
   "execution_count": 19,
   "metadata": {},
   "outputs": [
    {
     "name": "stdout",
     "output_type": "stream",
     "text": [
      "Active layer is: TPBi-Irppy. \n",
      " To change, call arch.set_active_layer(active_layer) Indexing starts at 0.\n",
      "RZ not provided. Flat RZ will be assumed\n"
     ]
    }
   ],
   "source": [
    "# Define wavelengths of interest\n",
    "wavelengths = np.arange(450,650,5)\n",
    "PL = np.genfromtxt('Reference Data/Irppy3.pl',skip_header=5,delimiter='\\t')\n",
    "PL_interp = np.interp(wavelengths,PL[:,0],PL[:,1])/wavelengths\n",
    "arch_heated = ThinFilmArchitecture(\n",
    "    layer_dict_list = layers_TPBi_heated,\n",
    "    dipole_positions = dipole_positions,\n",
    "    vac_wavelengths=wavelengths,pl_spectrum=PL_interp)\n",
    "arch_heated.load_nk(df_nk=df_nk)\n",
    "arch_heated.run_attribute_checks()"
   ]
  },
  {
   "cell_type": "code",
   "execution_count": 55,
   "metadata": {},
   "outputs": [
    {
     "data": {
      "application/vnd.jupyter.widget-view+json": {
       "model_id": "",
       "version_major": 2,
       "version_minor": 0
      },
      "text/plain": [
       "HBox(children=(IntProgress(value=0, max=40), HTML(value='')))"
      ]
     },
     "metadata": {},
     "output_type": "display_data"
    },
    {
     "name": "stdout",
     "output_type": "stream",
     "text": [
      "\r"
     ]
    }
   ],
   "source": [
    "arch_heated.show_wavelength_progress_bar=True\n",
    "custom_u = np.hstack((np.arange(0,0.75,0.005),\n",
    "                      np.arange(0.75,1,0.001),\n",
    "                      np.arange(1+0.001,2,0.002),\n",
    "                      np.arange(2,10,0.1)))#,np.arange(30,100,1)\n",
    "arch_heated.init_pds_variables(custom_u=custom_u)\n",
    "# un-comment to make sure ETL thickness is set properly:\n",
    "# layer_idx=arch_heated.layer_names.index('TPBi')\n",
    "# arch_heated.d[layer_idx] = 50 \n",
    "arch_heated.summarize_device()\n",
    "eta_out_of_x_heated = arch_heated.wavelength_averaged_eta_out\n",
    "kr_of_x_heated = arch_heated.kr_effective_spatial\n",
    "tau_of_x_heated = arch_heated.tau_effective_spatial"
   ]
  },
  {
   "cell_type": "code",
   "execution_count": 11,
   "metadata": {},
   "outputs": [
    {
     "data": {
      "image/png": "[encoded data removed]",
      "text/plain": [
       "<Figure size 216x216 with 2 Axes>"
      ]
     },
     "metadata": {
      "needs_background": "light"
     },
     "output_type": "display_data"
    }
   ],
   "source": [
    "fig,ax=plt.subplots(figsize=(3,3))#,ncols=4)\n",
    "ax_right = ax.twinx()\n",
    "plot_fname = 'spatial-optical-parameters-heated-device.svg'\n",
    "dEML = 10#arch_heated.d[arch_heated.active_layer]\n",
    "ax.plot(dipole_positions*dEML,kr_of_x_heated/1e6,\n",
    "        linestyle=styles[0],label='$\\mathit{k_r}$')\n",
    "ax.plot(dipole_positions*dEML,tau_of_x_heated/1e-6,\n",
    "        linestyle=styles[1],label=r'$\\tau$')\n",
    "ax_right.plot(dipole_positions*dEML,eta_out_of_x_heated,\n",
    "             linestyle=styles[2],label='$\\eta_{OC}$')\n",
    "ax.plot(dipole_positions*dEML,\n",
    "        G_ex_TPBi_heated/np.amax(G_ex_TPBi_heated),\n",
    "        linestyle=styles[3],label='$\\mathit{G}$')\n",
    "ax.legend(frameon=False,loc='lower left',bbox_to_anchor=(0.4,0))\n",
    "plt.legend(loc='lower left',bbox_to_anchor=(0.3,0.625),frameon=False)\n",
    "ax.set_ylabel(r'$k_r$ ($10^6$ s$^{-1}$), $\\tau$ ($\\mu$s), $\\mathit{G}$ (norm.)')\n",
    "ax.set_xlabel('Distance from HTL (nm)',fontsize=fs_label)\n",
    "ax_right.set_ylabel('$\\eta_{OC}$')\n",
    "ax_right.set_yticks([0.23,0.235,0.24])\n",
    "ax.set_yticks(np.arange(0.7,1.11,0.1))\n",
    "for subax in [ax,ax_right]:\n",
    "    mpl_helper.set_minor_ticks(subax)\n",
    "    format_axis(subax)\n",
    "    \n",
    "#plt.savefig(os.path.join(plot_dir,plot_fname),bbox_inches='tight',transparent=True)"
   ]
  },
  {
   "cell_type": "markdown",
   "metadata": {},
   "source": [
    "## $d_{ETL}$-dependent Optical generation in heated devices\n",
    "\n",
    "The ETL thickness varied slightly from growth-to-growth for the heated deposition devices. Here, we simulate the optical generation for each ETL thickness to allow for accurate simulation of the temperature dependent quenching data."
   ]
  },
  {
   "cell_type": "code",
   "execution_count": 12,
   "metadata": {
    "scrolled": true
   },
   "outputs": [
    {
     "data": {
      "image/png": "[encoded data removed]",
      "text/plain": [
       "<Figure size 288x216 with 1 Axes>"
      ]
     },
     "metadata": {
      "needs_background": "light"
     },
     "output_type": "display_data"
    }
   ],
   "source": [
    "theta0 = 45\n",
    "lam_vac = 405\n",
    "degree=np.pi/180\n",
    "layers = [ 'Air','SiO2', 'ITO' ,'PEDOT' ,'TCTA'  ,  'TPBi-Irppy' ,'TPBi', 'Al', 'Air']\n",
    "doping = [ 1, 1  ,  1  ,  1    ,  1         ,[0.92,0.08]   ,  1,    1,   1]\n",
    "d_list = np.array([0,0,   100 ,  70  ,  20 ,   10 ,   60  , 100, 0])\n",
    "powerDensity = 5 #mW/cm2\n",
    "# Measured ETL thickness for heated TPBi:Ir(ppy)3 devices\n",
    "# 25, 47, 61, 72, 87, 107 C\n",
    "dETLs_heated = [58.7,61.6,60.2,56.9,63,70.3]#np.arange(35,221,5)#[35,70,105,140,160]#np.arange(30,200,10)\n",
    "layer = 5 # emissive layer\n",
    "G_ex_list_heated = ['']*len(dETLs_heated)\n",
    "fig,ax=plt.subplots(figsize=(4,3))\n",
    "for i,dETL in enumerate(dETLs_heated):\n",
    "    d_list[-3] = dETL\n",
    "    n_list = tmm.load_nk(layers,doping,lam_vac,df_nk)\n",
    "    coh_tmm_data = tmm.coherent_tmm('s',n_list, d_list, theta0*degree, lam_vac)\n",
    "    position = np.arange(0,1.01,0.01) * d_list[layer]#np.arange(0,d_list[layer]+1,1)\n",
    "    position_full = tmm.position_resolved(layer,position,coh_tmm_data,powerDensity=powerDensity)\n",
    "    G_ex = position_full['G']\n",
    "    G_ex_list_heated[i] = G_ex\n",
    "    E = position_full['Esq']\n",
    "    plt.plot(position,E/np.amax(E),label='$d_{ETL}=$ ' +str(dETL) + 'nm')\n",
    "    #plt.plot(position,E)\n",
    "plt.axis([0,d_list[layer],0,1.05])\n",
    "legend = plt.legend(loc=0)#plt.legend(loc='right', bbox_to_anchor=(1.3, 0.5))\n",
    "plt.xlabel('Distance from HTL (nm)')\n",
    "plt.ylabel('Norm. $|E|^2$')\n",
    "plt.title('d$_{ETL}$ = ' + str(dETL))\n",
    "#mpl_helper.set_minor_ticks(ax)\n",
    "#fname = 'dETL' + str(dETL) + '_' +str(d_list[layer]) + '_Efield_405-and-473nm.png'\n",
    "#plt.savefig(os.path.join('Plots',fname), dpi=200, bbox_inches='tight')\n",
    "plt.show()"
   ]
  },
  {
   "cell_type": "code",
   "execution_count": 23,
   "metadata": {},
   "outputs": [],
   "source": [
    "# Save files\n",
    "data_fname = 'Reference Data/optical-simulation-data.csv'\n",
    "header=('Relative position in EML,Generation CBP:Irppy,kr CBP:Irppy (s^-1),'\n",
    "       +'tau CBP:Irppy (s),eta_out CBP:Irppy,Generation TPBi:Irppy,'\n",
    "       +'kr TPBi:Irppy (s^-1),tau TPBi:Irppy (s),eta_out TPBi:Irppy')\n",
    "data = np.vstack((dipole_positions,G_ex_CBP_TPBi,kr_of_x,\n",
    "                 tau_of_x,eta_out_of_x,G_ex_TPBi_heated,\n",
    "                 kr_of_x_heated,tau_of_x_heated,\n",
    "                  eta_out_of_x_heated)).T\n",
    "np.savetxt(data_fname,data,header=header,delimiter=',')\n",
    "# Save file for dETL dependence of optical generation in heated devices\n",
    "header = ','.join('dETL = ' + str(x)+ ' nm' for x in dETLs_heated)\n",
    "np.savetxt('Reference Data/dETL-variation-heated-devices.csv',\n",
    "          np.array(G_ex_list_heated).T,header=header,delimiter=',')"
   ]
  },
  {
   "cell_type": "markdown",
   "metadata": {},
   "source": [
    "# Feasible parameter regions"
   ]
  },
  {
   "cell_type": "code",
   "execution_count": 8,
   "metadata": {},
   "outputs": [],
   "source": [
    "i=0\n",
    "tau = tau_of_x # seconds\n",
    "G = G_ex_CBP_TPBi\n",
    "sigma_P = 1.6e12 # cm^-2\n",
    "# Set the emissive layer thickness:\n",
    "dEML = 10 # nm #arch_CBP_TPBi.d[arch_CBP_TPBi.active_layer]\n",
    "x = dipole_positions * dEML\n",
    "L_list = 10**(np.linspace(-1,1,70))#np.array([0.1,0.15,0.25,0.5,0.75,1,1.5,2,2.5,3,4,5,6,7,8,9,10])#np.arange(0.1,10,0.1)\n",
    "k_list = 10**(np.linspace(np.log10(3e-14),np.log10(3e-12),70))# cm^-3 s^-1\n",
    "# These D values (nm^2/s) correspond to the following Ld values (nm)\n",
    "# 1.4e6 - ~1 nm, 2.15e7 ~ 4 nm, 1e8 ~9 nm\n",
    "D_list = [1.4e6,2.15e7,1e8]#[0,1.4e6,0.6e7,2e7,1e8] #nm^2/s\n",
    "PL_norm = np.zeros((len(D_list),len(L_list),len(k_list)))\n",
    "IQE = np.zeros((len(D_list),len(L_list),len(k_list)))\n",
    "EQE = np.zeros((len(D_list),len(L_list),len(k_list)))\n",
    "for D_idx,D in enumerate(D_list):\n",
    "    for L_idx,L in enumerate(L_list):\n",
    "        n_pol = calc_npol_exp(x,dEML,sigma_P,L)\n",
    "        for k_idx,k_TP in enumerate(k_list):\n",
    "            PL_norm[D_idx,L_idx,k_idx]=calc_normPL(dEML,n_pol,tau,G,D,k_TP,\n",
    "                                                   eta_out_of_x,kr_of_x)\n",
    "            #IQE[D_idx,L_idx,k_idx]    =calc_IQE(dEML,n_pol,tau,n_pol,D,k_TP,kr)\n",
    "            EQE[D_idx,L_idx,k_idx]    =calc_EQE(dEML,n_pol,tau,n_pol,D,k_TP,\n",
    "                                               eta_out_of_x,kr_of_x)"
   ]
  },
  {
   "cell_type": "code",
   "execution_count": 9,
   "metadata": {},
   "outputs": [
    {
     "data": {
      "image/png": "[encoded data removed]",
      "text/plain": [
       "<Figure size 540x198 with 5 Axes>"
      ]
     },
     "metadata": {
      "needs_background": "light"
     },
     "output_type": "display_data"
    }
   ],
   "source": [
    "# EL and PL model - measured 2d plot\n",
    "targetPL = 0.65\n",
    "targetEL = 0.63 # = IQE/eta_PL = ~0.6 / ~0.95\n",
    "targetEQE = 0.134\n",
    "fig,axs=plt.subplots(figsize=(2.5*len(D_list),2.75),ncols=len(D_list))\n",
    "plt.subplots_adjust(wspace=0)\n",
    "logy=True\n",
    "for D_idx,D in enumerate(D_list):\n",
    "    ax=axs[D_idx]\n",
    "    levs = np.arange(0,0.061,0.02)\n",
    "    csPL = ax.contourf(k_list,L_list,\n",
    "                      np.abs(PL_norm[D_idx,:,:]-targetPL)/targetPL,\n",
    "                      levs,alpha=0.75,#norm=colors.LogNorm(),\n",
    "                      cmap=plt.get_cmap('Blues_r'))\n",
    "    csEL = ax.contourf(k_list,L_list,\n",
    "                      np.abs(EQE[D_idx,:,:]-targetEQE)/targetEQE,\n",
    "                      levs,alpha=0.75,#norm=colors.LogNorm(),\n",
    "                      cmap=plt.get_cmap('Reds_r'))\n",
    "    if D_idx==(len(D_list)-1):\n",
    "        # Find position of last contour plot and use this to set position of new\n",
    "        # colorbar axes.    \n",
    "        left, bottom, width, height = axs[-1].get_position().bounds\n",
    "        cax1 = fig.add_axes([left+width+width*0.1+0.01, bottom, width*0.075, height])\n",
    "        cax2 = fig.add_axes([left+width+0.01, bottom, width*0.075, height])\n",
    "        ticks = levs#np.arange(0,0.101,0.01)\n",
    "        cbar1 = plt.colorbar(csPL,ticks=ticks, cax=cax1)\n",
    "        cbar2 = plt.colorbar(csEL,ticks=ticks, cax=cax2)\n",
    "        cbar2.ax.set_yticklabels([])\n",
    "        for c in [cbar1,cbar2]:\n",
    "            c.ax.minorticks_off()\n",
    "        cbar1.ax.set_yticklabels(['{:.0f}'.format(x*100)+'%' for x in ticks])\n",
    "        cbar1.set_label('Difference between \\nmodel and measurement')#'|Model - Measured|/Measured')\n",
    "    ax.set_xscale('log')\n",
    "    if logy:\n",
    "        ax.set_yscale('log')\n",
    "    else:\n",
    "        ax.set_yticks(np.arange(0,10.1,2))\n",
    "\n",
    "    mpl_helper.setNiceTicks(ax,logx=True,logy=logy)\n",
    "    if D_idx == 0:\n",
    "        format_axis(ax,#xlabel='$k_{TP}$ (cm$^{3}$ s$^{-1}$)',\n",
    "                    ylabel='Hole distribution width (nm)')#'$\\mathit{n_{h}}$ decay length (nm)')\n",
    "    else:\n",
    "        format_axis(ax)#,xlabel='$k_{TP}$ (cm$^{3}$ s$^{-1}$)')\n",
    "        ax.yaxis.set_ticklabels([])\n",
    "fig.text(0.5, -0.02, 'Triplet-polaron quenching rate constant '\n",
    "                     + '($\\mathit{k_{TP}}$, $\\mathrm{cm^3/s}$)', \n",
    "         ha='center', va='center',fontsize=fs_label)\n",
    "# plt.savefig(os.path.join(plot_dir,'PL-IQE_overlay_2D_vary-ktp-and-L-and-D.svg'),\n",
    "#                dpi=300,bbox_inches='tight',transparent=True)\n",
    "plt.show()"
   ]
  },
  {
   "cell_type": "code",
   "execution_count": 10,
   "metadata": {},
   "outputs": [
    {
     "name": "stdout",
     "output_type": "stream",
     "text": [
      "PLnorm = 0.62 , IQE = 0.53, EQE = 0.131\n",
      "Avg. Ld = 3.43 nm (with quenching)\n",
      "Avg. Ld = 4.18 nm (without quenching)\n"
     ]
    },
    {
     "data": {
      "image/png": "[encoded data removed]",
      "text/plain": [
       "<Figure size 144x216 with 2 Axes>"
      ]
     },
     "metadata": {
      "needs_background": "light"
     },
     "output_type": "display_data"
    }
   ],
   "source": [
    "# Plot combined EL and PL solution, short Ld\n",
    "fig,axs=plt.subplots(figsize=(2,3),nrows=2,sharex=True,\n",
    "                    gridspec_kw={\n",
    "                           'height_ratios': [1, 2.5]})\n",
    "plt.subplots_adjust(hspace=0)\n",
    "ax,ax2=axs[1],axs[0]\n",
    "i=0\n",
    "D =2e7# 1e8\n",
    "L=3#1.25#2.5\n",
    "tau = tau_of_x[i] # seconds\n",
    "k_TP = 4.9e-13 # cm^-3 s^-1\n",
    "sigma_P = 1.6e12 # cm^-2\n",
    "dEML = 10 # nm, arch_TPBi.d[arch_TPBi.active_layer]\n",
    "x = dipole_positions * dEML\n",
    "n_pol = calc_npol_exp(x,dEML,sigma_P,L)\n",
    "tau_eff = 1 / (1/tau + k_TP * n_pol)\n",
    "G_opt = G_ex_CBP_TPBi\n",
    "G_el = n_pol\n",
    "# optically generated\n",
    "n_ex_opt_quenched  = CenterFDsolver(D,tau_eff,G_opt,dEML,BCs=('hn','hn'))\n",
    "n_ex_opt_unquenched = CenterFDsolver(D,tau,G_opt,dEML,BCs=('hn','hn'))\n",
    "opt_unquenched = eta_out_of_x[i] * kr_of_x[i] * n_ex_opt_unquenched\n",
    "opt_quenched = eta_out_of_x[i] * kr_of_x[i] * n_ex_opt_quenched\n",
    "# Electrically generated\n",
    "n_ex_el_quenched  = CenterFDsolver(D,tau_eff,G_el,dEML,BCs=('hn','hn'))\n",
    "n_ex_el_unquenched = CenterFDsolver(D,tau,G_el,dEML,BCs=('hn','hn'))\n",
    "el_unquenched = eta_out_of_x[i] * kr_of_x[i] * n_ex_el_unquenched\n",
    "el_quenched = eta_out_of_x[i] * kr_of_x[i] * n_ex_el_quenched\n",
    "# Plots\n",
    "ax.plot(x,n_ex_el_quenched/np.amax(n_ex_el_unquenched),\n",
    "       color='tab:blue',linestyle=styles[0+1])#,label='EL,quenched')\n",
    "ax.plot(x,n_ex_el_unquenched/np.amax(n_ex_el_unquenched),label='EL',\n",
    "        color='tab:blue')\n",
    "\n",
    "ax.plot(x,n_ex_opt_quenched/np.amax(n_ex_opt_unquenched),\n",
    "        color='tab:orange',linestyle=styles[0+1])#,label='PL,quenched')\n",
    "ax.plot(x,n_ex_opt_unquenched/np.amax(n_ex_opt_unquenched),label='PL',\n",
    "        color='tab:orange')\n",
    "\n",
    "\n",
    "\n",
    "ax2.plot(x,n_pol/1e19,'--',color=tuple(3*[0.5]))\n",
    "y_upper = np.amax(n_pol)/1e19\n",
    "y_upper = float('{:.1f}'.format(y_upper))\n",
    "side = 'right'\n",
    "mpl_helper.minimal_axis_spines(ax2,spinecolor='k',visible=[side],\n",
    "                               tick_loc=('none',side),bounds=[[0,y_upper]])\n",
    "ax2.set_yticks([0,y_upper])\n",
    "for subax in axs:\n",
    "    mpl_helper.set_minor_ticks(subax)\n",
    "format_axis(ax,limits = [-1,11,0,1.1],\n",
    "            xlabel='Distance from HTL (nm)',\n",
    "            ylabel='Norm. exciton density')#$\\mathit{n_{T}}$')\n",
    "#format_axis(ax2,ylabel='$\\mathit{n_{h}}$ ($10^{19}\\, cm^{-3}$)')\n",
    "ax2.set_ylim(-0.1*y_upper,y_upper*1.1)\n",
    "if side == 'left':\n",
    "    ax2.spines[side].set_position(('data', -1))\n",
    "    #ax2.yaxis.set_label_coords(1.35, 0.5)\n",
    "else:\n",
    "    ax2.spines[side].set_position(('data', 11))\n",
    "    ax2.yaxis.set_label_coords(1.35, 0.2)\n",
    "#ax2.set_title('$k_{TP} = $' + num2latex(k_TP,digits=1) + '$ cm^{3} s^{-1}$'\n",
    "#              + '\\nD = '+ num2latex(D,digits=1)+ '$ nm^{2} s^{-1}$')\n",
    "plt.legend(frameon=False)\n",
    "PL_quench_ratio = np.trapz(opt_quenched)/np.trapz(opt_unquenched)\n",
    "EL_quench_ratio = np.trapz(el_quenched)/np.trapz(el_unquenched)\n",
    "print('PLnorm = ' + '{:.2f}'.format(PL_quench_ratio)\n",
    "     + ' , IQE = '+ '{:.2f}'.format(np.trapz(n_ex_el_quenched*kr_of_x[i])\n",
    "                                    /np.trapz(n_ex_el_quenched/tau_eff))\n",
    "     + ', EQE = '+ '{:.3f}'.format(np.trapz(el_quenched)/np.trapz(n_ex_el_quenched/tau_eff)))\n",
    "\n",
    "# # '$n_{ex}$, D = ' + '{:.1e}'.format(D) + ' nm$^2$/s'\n",
    "# #plt.plot(x,n_ex/1e14,'--',label='$n_{ex}$, $L_D = $' + '{:.0f}'.format(avg_Ld) + ' nm')\n",
    "\n",
    "# label='$L_D = $' + '{:.1f}'.format(avg_Ld) + ' nm'\n",
    "avg_Ld = np.trapz(np.sqrt(D*tau_eff)*n_ex_opt_quenched/np.trapz(n_ex_opt_quenched))\n",
    "print('Avg. Ld = ' + '{:.2f}'.format(avg_Ld) + ' nm (with quenching)')\n",
    "avg_Ld = np.trapz(np.sqrt(D*tau)*n_ex_opt_unquenched/np.trapz(n_ex_opt_unquenched))\n",
    "print('Avg. Ld = ' + '{:.2f}'.format(avg_Ld) + ' nm (without quenching)')\n",
    "# plt.savefig(os.path.join(\n",
    "#     plot_dir,'profiles_matchEQE-and-PL_expRZ-L='+str(L)+'nm_D='+'{:.1e}'.format(D)+'nm2s_'\n",
    "#     + 'Ld=' +'{:.2f}'.format(avg_Ld)+'nm_ktp='+str(k_TP)+'.svg'),\n",
    "#             dpi=300,bbox_inches='tight',transparent=True)"
   ]
  },
  {
   "cell_type": "markdown",
   "metadata": {},
   "source": [
    "# Temperature data\n",
    "\n",
    "In these heated devices (TCTA/TPBi:Ir(ppy)3/TPBi), the host (TPBi) is polar, so we assume hole density decays exponentially from the HTL/EML interface."
   ]
  },
  {
   "cell_type": "code",
   "execution_count": 10,
   "metadata": {},
   "outputs": [
    {
     "data": {
      "image/png": "[encoded data removed]",
      "text/plain": [
       "<Figure size 144x216 with 1 Axes>"
      ]
     },
     "metadata": {
      "needs_background": "light"
     },
     "output_type": "display_data"
    }
   ],
   "source": [
    "# Extracted hole density for different temperatures\n",
    "capsize = 3\n",
    "capthick = 1.0\n",
    "error_lw = 1.0\n",
    "mew = 1.25\n",
    "fig,ax=plt.subplots(figsize=(2,3))\n",
    "temp_list = np.array([ 25,  47,  61,  72,  87, 107])\n",
    "# Measured sheet charge density from displacement current\n",
    "# See Fig. 4 from publication\n",
    "sigma_P_list = np.array([1.63801528e+12, 1.13493431e+12, 7.96914033e+11, \n",
    "                         6.58907633e+11,2.43126575e+11, 2.33372157e+11])\n",
    "PL_quench_ratios = []\n",
    "EL_quench_ratios = []\n",
    "for idx_T,sigma_P in enumerate(sigma_P_list):\n",
    "    D = 2e7\n",
    "    L=4#4\n",
    "    tau = tau_of_x_heated # seconds\n",
    "    k_TP = 3e-13 # cm^-3 s^-1\n",
    "    #sigma_P = 1.6e12 # cm^-2\n",
    "    dEML = 10 # nm, arch_TPBi_heated.d[arch_TPBi_heated.active_layer]\n",
    "    x = dipole_positions * dEML\n",
    "    # Here, we assume polaron density decayse from the \n",
    "    # HTL/EML interface:\n",
    "    n_pol = calc_npol_exp_HTL(x,dEML,sigma_P,L)\n",
    "    tau_eff = 1 / (1/tau + k_TP * n_pol)\n",
    "    G_opt = G_ex_list_heated[idx_T]\n",
    "    G_el = n_pol\n",
    "    PL_quench_ratios.append(\n",
    "        calc_normPL(dEML,n_pol,tau,G_opt,D,k_TP,\n",
    "                    eta_out_of_x_heated,kr_of_x_heated))\n",
    "    \n",
    "# Measured PL quenching at ~2.5V, see Fig. 4 from the publication\n",
    "plt.errorbar(\n",
    "    [25,47,61,72,74,87,107],\n",
    "    [0.733, 0.832, 0.866, 0.885, 0.88, 0.969, 0.97],\n",
    "    yerr = np.array([0.011, 0.0125, 0.0385, 0.0103, 0.0340,0.028, 0.0116]),\n",
    "    capsize=capsize,capthick=capthick,linewidth=error_lw,fmt='o',\n",
    "    markersize=ms-2,markeredgewidth=mew,\n",
    "    color='tab:orange',mfc='tab:orange',\n",
    "    label='Measured'\n",
    ")\n",
    "# Modeled PL quenching:\n",
    "plt.plot(temp_list,PL_quench_ratios,'s',\n",
    "         color='tab:blue',label='Modeled')\n",
    "\n",
    "# Format plot\n",
    "plt.legend(loc='lower left',bbox_to_anchor=(0.3,0.025))\n",
    "ax.set_xticks(np.arange(20,101,20))\n",
    "format_axis(ax,limits=[15,115,0.7,1],\n",
    "            xlabel=\"Deposition Temperature (°C)\",\n",
    "            ylabel=\"Norm. PL at 2.5 V\",\n",
    "            fs_label=fs_label,fs_tick=fs_tick)\n",
    "ax.spines['left'].set_position(('data', 15))\n",
    "ax.spines['bottom'].set_position(('data', 0.7))\n",
    "#ax.xaxis.set_ticks_position('bottom')\n",
    "#ax.yaxis.set_ticks_position('left')\n",
    "# plt.savefig(os.path.join(plot_dir,'heated_model-vs-meas_expRZ-L='+str(L)\n",
    "#                          +'nm_varyLd_ktp='+str(k_TP)+'_D='+str(D)+'nm2s.svg'),\n",
    "#                     dpi=300,bbox_inches='tight',transparent=True)"
   ]
  },
  {
   "cell_type": "code",
   "execution_count": null,
   "metadata": {},
   "outputs": [],
   "source": []
  }
 ],
 "metadata": {
  "kernelspec": {
   "display_name": "Python 3",
   "language": "python",
   "name": "python3"
  },
  "language_info": {
   "codemirror_mode": {
    "name": "ipython",
    "version": 3
   },
   "file_extension": ".py",
   "mimetype": "text/x-python",
   "name": "python",
   "nbconvert_exporter": "python",
   "pygments_lexer": "ipython3",
   "version": "3.7.3"
  },
  "toc": {
   "base_numbering": 1,
   "nav_menu": {},
   "number_sections": true,
   "sideBar": true,
   "skip_h1_title": false,
   "title_cell": "Table of Contents",
   "title_sidebar": "Contents",
   "toc_cell": true,
   "toc_position": {},
   "toc_section_display": true,
   "toc_window_display": true
  }
 },
 "nbformat": 4,
 "nbformat_minor": 2
}
